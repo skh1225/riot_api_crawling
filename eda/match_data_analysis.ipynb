{
 "cells": [
  {
   "cell_type": "code",
   "execution_count": 3,
   "id": "20945cc6-e23b-4e6b-bf6b-15143d2601bc",
   "metadata": {},
   "outputs": [],
   "source": [
    "import json"
   ]
  },
  {
   "cell_type": "markdown",
   "id": "7462aca2",
   "metadata": {},
   "source": [
    "#### matchInfo\n",
    "matchId : metadata.matchId\n",
    "tier: metadata.tier\n",
    "gameCreation: info.gameCreation\n",
    "gameDuration: info.gameDuration\n",
    "gameVersion: info.gameVersion\n",
    "red_pick:\n",
    "blue_pick:\n",
    "ban:\n",
    "win: info.teams.0.win\n",
    "\n",
    "\n",
    "#### players\n",
    "championId\n",
    "teamPosition\n",
    "\n",
    "champExperience\n",
    "goldEarned\n",
    "\n",
    "\n",
    "magicDamageDealtToChampions\n",
    "physicalDamageDealtToChampions\n",
    "trueDamageDealtToChampions\n",
    "damageDealtToBuildings\n",
    "damageDealtToObjectives\n",
    "\n",
    "totalDamageTaken\n",
    "\n",
    "timeCCingOthers\n",
    "\n",
    "totalHeal\n",
    "totalHealsOnTeammates\n",
    "\n",
    "deaths\n",
    "\n",
    "wardsKilled\n",
    "wardsPlaced\n",
    "detectorWardsPlaced\n",
    "\n",
    "firstBloodKill\n",
    "firstBloodAssist\n",
    "firstTowerKill\n",
    "firstTowerAssist\n",
    "gameEndedInSurrender\n",
    "gameEndedInEarlySurrender"
   ]
  }
 ],
 "metadata": {
  "kernelspec": {
   "display_name": "Python 3 (ipykernel)",
   "language": "python",
   "name": "python3"
  },
  "language_info": {
   "codemirror_mode": {
    "name": "ipython",
    "version": 3
   },
   "file_extension": ".py",
   "mimetype": "text/x-python",
   "name": "python",
   "nbconvert_exporter": "python",
   "pygments_lexer": "ipython3",
   "version": "3.11.3"
  }
 },
 "nbformat": 4,
 "nbformat_minor": 5
}
